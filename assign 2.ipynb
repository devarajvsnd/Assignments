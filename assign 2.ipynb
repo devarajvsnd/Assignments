{
 "cells": [
  {
   "cell_type": "raw",
   "id": "cbb6fb4b",
   "metadata": {},
   "source": [
    "Write a function that takes a positive integer num and calculates how many dots exist in a pentagonal shape around the center dot on the Nth iteration."
   ]
  },
  {
   "cell_type": "code",
   "execution_count": 10,
   "id": "5671cc91",
   "metadata": {},
   "outputs": [],
   "source": [
    "def pentagon_dots(n):\n",
    "    if n<0:\n",
    "        print('Enter a positive number')\n",
    "    else:\n",
    "        return((5*n*n-5*n+2)/2)\n"
   ]
  },
  {
   "cell_type": "code",
   "execution_count": 11,
   "id": "e002d816",
   "metadata": {},
   "outputs": [
    {
     "name": "stdout",
     "output_type": "stream",
     "text": [
      "Enter a positive number\n"
     ]
    }
   ],
   "source": [
    "pentagon_dots(-6)"
   ]
  },
  {
   "cell_type": "raw",
   "id": "70cfe5bf",
   "metadata": {},
   "source": [
    "2.  Make a function that encrypts "
   ]
  },
  {
   "cell_type": "code",
   "execution_count": 31,
   "id": "0ece66a5",
   "metadata": {},
   "outputs": [],
   "source": [
    "def encrypt(text):\n",
    "    text=text[::-1]\n",
    "    for i in range(len(text)):\n",
    "        if text[i]=='a':\n",
    "            text=text.replace('a', '0')\n",
    "        elif text[i]=='e':\n",
    "            text=text.replace('e', '1')\n",
    "        elif text[i]=='i':\n",
    "            text=text.replace('i', '2')\n",
    "        elif text[i]=='o':\n",
    "            text=text.replace('o', '2')\n",
    "        elif text[i]=='u':\n",
    "            text=text.replace('u', '3')\n",
    "    text=text+'aca'\n",
    "    return text"
   ]
  },
  {
   "cell_type": "code",
   "execution_count": 32,
   "id": "9f21f198",
   "metadata": {},
   "outputs": [
    {
     "data": {
      "text/plain": [
       "'0n0n0baca'"
      ]
     },
     "execution_count": 32,
     "metadata": {},
     "output_type": "execute_result"
    }
   ],
   "source": [
    "encrypt('banana')\n",
    " "
   ]
  },
  {
   "cell_type": "code",
   "execution_count": 33,
   "id": "558c178f",
   "metadata": {},
   "outputs": [
    {
     "data": {
      "text/plain": [
       "'0c0r0kaca'"
      ]
     },
     "execution_count": 33,
     "metadata": {},
     "output_type": "execute_result"
    }
   ],
   "source": [
    "encrypt('karaca')"
   ]
  },
  {
   "cell_type": "raw",
   "id": "bec9653e",
   "metadata": {},
   "source": [
    ". Given the month and year as numbers, return whether that month contains a Friday 13th.(i.e You can check Python's datetime module)"
   ]
  },
  {
   "cell_type": "code",
   "execution_count": 44,
   "id": "d09dfe55",
   "metadata": {},
   "outputs": [],
   "source": [
    "import datetime\n",
    "def has_friday_13(m,y):\n",
    "    x_date = datetime.date(y, m, 13)\n",
    "    no = x_date.weekday()\n",
    "    \n",
    "    if no ==4:\n",
    "        print(\"True\")\n",
    "    else:  \n",
    "        print(\"False\")\n",
    "        \n",
    "    "
   ]
  },
  {
   "cell_type": "code",
   "execution_count": 45,
   "id": "060725a3",
   "metadata": {},
   "outputs": [
    {
     "name": "stdout",
     "output_type": "stream",
     "text": [
      "True\n"
     ]
    }
   ],
   "source": [
    "has_friday_13(3, 2020) "
   ]
  },
  {
   "cell_type": "code",
   "execution_count": 46,
   "id": "3d328ccf",
   "metadata": {},
   "outputs": [
    {
     "name": "stdout",
     "output_type": "stream",
     "text": [
      "True\n"
     ]
    }
   ],
   "source": [
    "has_friday_13(10, 2017) "
   ]
  },
  {
   "cell_type": "code",
   "execution_count": 47,
   "id": "6d15b990",
   "metadata": {},
   "outputs": [
    {
     "name": "stdout",
     "output_type": "stream",
     "text": [
      "False\n"
     ]
    }
   ],
   "source": [
    "has_friday_13(1, 1985) "
   ]
  },
  {
   "cell_type": "code",
   "execution_count": 82,
   "id": "f5e79610",
   "metadata": {},
   "outputs": [
    {
     "data": {
      "text/plain": [
       "2"
      ]
     },
     "execution_count": 82,
     "metadata": {},
     "output_type": "execute_result"
    }
   ],
   "source": [
    "import re\n",
    "lst = [\"bad cookie\", \"good cookie\", \"bad cookie\", \"good cookie\", \"good cookie\"]\n",
    "pattern = r'(?<!good cookie)bad cookie'\n",
    "len(re.findall(pattern, \", \".join(lst)))"
   ]
  },
  {
   "cell_type": "raw",
   "id": "b648c444",
   "metadata": {},
   "source": [
    "5. Given a list of words in the singular form, return a set of those words in the plural form if they appear more than once in the list."
   ]
  },
  {
   "cell_type": "code",
   "execution_count": 1,
   "id": "747acc62",
   "metadata": {},
   "outputs": [],
   "source": [
    "def pluralize(ls):\n",
    "    new=[]\n",
    "    for j in range(len(ls)):\n",
    "        for i in range(len(ls)):\n",
    "            if j==i: \n",
    "                break\n",
    "            elif ls[j]==ls[i]:\n",
    "                new.append(ls[j]+'s')\n",
    "            else: new.append(ls[j])\n",
    "    return new\n",
    "            "
   ]
  },
  {
   "cell_type": "code",
   "execution_count": 4,
   "id": "c6312fe9",
   "metadata": {},
   "outputs": [],
   "source": [
    "ls=[\"cow\", \"pig\", \"cow\", \"cow\"]\n",
    "ls1=\",\".join(ls)"
   ]
  },
  {
   "cell_type": "code",
   "execution_count": 6,
   "id": "223b7b15",
   "metadata": {},
   "outputs": [
    {
     "data": {
      "text/plain": [
       "'cow,pig,cow,cow'"
      ]
     },
     "execution_count": 6,
     "metadata": {},
     "output_type": "execute_result"
    }
   ],
   "source": [
    "ls1"
   ]
  },
  {
   "cell_type": "code",
   "execution_count": 10,
   "id": "5552348c",
   "metadata": {},
   "outputs": [],
   "source": [
    "pt=ls[1]"
   ]
  },
  {
   "cell_type": "code",
   "execution_count": 11,
   "id": "85962ee7",
   "metadata": {},
   "outputs": [
    {
     "data": {
      "text/plain": [
       "['pig']"
      ]
     },
     "execution_count": 11,
     "metadata": {},
     "output_type": "execute_result"
    }
   ],
   "source": [
    "import re\n",
    "re.findall(pt, ls1)"
   ]
  },
  {
   "cell_type": "code",
   "execution_count": 62,
   "id": "6016087b",
   "metadata": {},
   "outputs": [],
   "source": [
    "def pluralize(ls):\n",
    "    ls1=\",\".join(ls)\n",
    "    new=[]\n",
    "    for j in range(len(ls)):\n",
    "        pattern=ls[j]\n",
    "        for i in range(len(ls)):\n",
    "            if(len(re.findall(pattern, ls1)))>1:\n",
    "               new.append(ls[j]+'s')\n",
    "               ls1 = re.sub(ls[i], \"0\", ls1)\n",
    "               break \n",
    "            else:\n",
    "               new.append(ls[j])\n",
    "               ls1 = re.sub(ls[i], \"0\", ls1)\n",
    "               break\n",
    "            \n",
    "    return new"
   ]
  },
  {
   "cell_type": "code",
   "execution_count": 63,
   "id": "6413acbb",
   "metadata": {},
   "outputs": [
    {
     "data": {
      "text/plain": [
       "['cows', 'pig', 'cow', 'cow']"
      ]
     },
     "execution_count": 63,
     "metadata": {},
     "output_type": "execute_result"
    }
   ],
   "source": [
    "pluralize([\"cow\", \"pig\", \"cow\", \"cow\"])"
   ]
  },
  {
   "cell_type": "code",
   "execution_count": null,
   "id": "e77e716f",
   "metadata": {},
   "outputs": [],
   "source": []
  },
  {
   "cell_type": "code",
   "execution_count": null,
   "id": "0c7b27d1",
   "metadata": {},
   "outputs": [],
   "source": []
  },
  {
   "cell_type": "code",
   "execution_count": null,
   "id": "92687f9e",
   "metadata": {},
   "outputs": [],
   "source": []
  }
 ],
 "metadata": {
  "kernelspec": {
   "display_name": "Python 3",
   "language": "python",
   "name": "python3"
  },
  "language_info": {
   "codemirror_mode": {
    "name": "ipython",
    "version": 3
   },
   "file_extension": ".py",
   "mimetype": "text/x-python",
   "name": "python",
   "nbconvert_exporter": "python",
   "pygments_lexer": "ipython3",
   "version": "3.8.8"
  }
 },
 "nbformat": 4,
 "nbformat_minor": 5
}
