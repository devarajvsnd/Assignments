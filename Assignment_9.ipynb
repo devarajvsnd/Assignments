{
 "cells": [
  {
   "cell_type": "raw",
   "id": "767f3b67",
   "metadata": {},
   "source": [
    "1. To what does a relative path refer?\n",
    "\n",
    "os.path.relpath() method in Python is used to get a relative filepath to the given path either from the current working directory or from the given directory."
   ]
  },
  {
   "cell_type": "raw",
   "id": "7e141221",
   "metadata": {},
   "source": [
    "2. What does an absolute path start with your operating system?\n",
    "\n",
    "The absolute path will begin at the home directory and will end with the file or directory that you wish to access."
   ]
  },
  {
   "cell_type": "raw",
   "id": "96dba80d",
   "metadata": {},
   "source": [
    "3. What do the functions os.getcwd() and os.chdir() do?\n",
    "\n",
    "getcwd() : This function allows to see what your current working directory is. \n",
    "chdir(\"path-to-dir\") : Short for CHange DIRectory, this function allows you to set the current working directory to a path of choice."
   ]
  },
  {
   "cell_type": "raw",
   "id": "0eac414b",
   "metadata": {},
   "source": [
    "4. What are the . and .. folders?\n",
    "\n",
    "A single dot ('.') means that the module or package referenced is in the same directory as the current location.\n",
    "Two dots('..')  mean that it is in the parent directory of the current location, in other words the directory above."
   ]
  },
  {
   "cell_type": "raw",
   "id": "e6a3ba3e",
   "metadata": {},
   "source": [
    "5. In C:\\bacon\\eggs\\spam.txt, which part is the dir name, and which part is the base name?\n",
    "\n",
    "C:\\bacon\\eggs\\ is the dir name\n",
    "C:\\bacon\\ is the base name  "
   ]
  },
  {
   "cell_type": "code",
   "execution_count": 1,
   "id": "b7c0cc67",
   "metadata": {},
   "outputs": [
    {
     "name": "stdout",
     "output_type": "stream",
     "text": [
      "Object `function` not found.\n"
     ]
    }
   ],
   "source": [
    "6. What are the three “mode” arguments that can be passed to the open() function?\n",
    "\n"
   ]
  },
  {
   "cell_type": "code",
   "execution_count": 2,
   "id": "9f8b256b",
   "metadata": {},
   "outputs": [
    {
     "name": "stdout",
     "output_type": "stream",
     "text": [
      "Object `mode` not found.\n"
     ]
    }
   ],
   "source": [
    "7. What happens if an existing file is opened in write mode?\n"
   ]
  },
  {
   "cell_type": "code",
   "execution_count": null,
   "id": "0a1f7d04",
   "metadata": {},
   "outputs": [],
   "source": [
    "8. How do you tell the difference between read() and readlines()?\n"
   ]
  },
  {
   "cell_type": "code",
   "execution_count": null,
   "id": "9496276f",
   "metadata": {},
   "outputs": [],
   "source": [
    "9. What data structure does a shelf value resemble?"
   ]
  }
 ],
 "metadata": {
  "kernelspec": {
   "display_name": "Python 3",
   "language": "python",
   "name": "python3"
  },
  "language_info": {
   "codemirror_mode": {
    "name": "ipython",
    "version": 3
   },
   "file_extension": ".py",
   "mimetype": "text/x-python",
   "name": "python",
   "nbconvert_exporter": "python",
   "pygments_lexer": "ipython3",
   "version": "3.8.8"
  }
 },
 "nbformat": 4,
 "nbformat_minor": 5
}
