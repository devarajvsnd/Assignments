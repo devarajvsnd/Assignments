{
 "cells": [
  {
   "cell_type": "raw",
   "id": "2cdca228",
   "metadata": {},
   "source": []
  },
  {
   "cell_type": "raw",
   "id": "a54020fd",
   "metadata": {},
   "source": [
    "1. What is the name of the feature responsible for generating Regex objects?\n",
    "\n",
    "The re. compile() function is responsible for generating Regex objects"
   ]
  },
  {
   "cell_type": "raw",
   "id": "30aec251",
   "metadata": {},
   "source": [
    "2. Why do raw strings often appear in Regex objects?\n",
    "\n",
    "Raw stringsoften appear so that backslashes in the sentences do not have to be escaped."
   ]
  },
  {
   "cell_type": "raw",
   "id": "114db265",
   "metadata": {},
   "source": [
    "3. What is the return value of the search() method?\n",
    "\n",
    "The search() method is able to find a pattern from any position of the string but it only returns the first occurrence of the search pattern"
   ]
  },
  {
   "cell_type": "code",
   "execution_count": null,
   "id": "d86ffd02",
   "metadata": {},
   "outputs": [],
   "source": [
    "#4. From a Match item, how do you get the actual strings that match the pattern?\n",
    "\n",
    "'''A Regex objects search() method searches the string it is passed for any matches. Match objects have a group() method \n",
    "that will return the actual matched text from the searched string.\n",
    "\n",
    "Below is the example\n",
    "'''\n",
    "import re\n",
    "pattern = re.compile(r'\\d\\d\\d-\\d\\d\\d-\\d\\d\\d\\d')\n",
    "mo = pattern.search('My number is 415-555-4242.')\n",
    "print('Phone number found: ' + mo.group())"
   ]
  },
  {
   "cell_type": "code",
   "execution_count": null,
   "id": "14f018de",
   "metadata": {},
   "outputs": [],
   "source": [
    "#5. In the regex which created from the r'(\\d\\d\\d)-(\\d\\d\\d-\\d\\d\\d\\d)', what does group zero cover? Group 2? Group 1?\n",
    "#The group zero covers the entire pattern, while group 2 with two patterns and group 1 with a single pattern\n",
    "\n",
    "\n",
    "import re\n",
    "phoneNumRegex = re.compile(r'(\\d\\d\\d)-(\\d\\d\\d-\\d\\d\\d\\d)')\n",
    "mo = phoneNumRegex.search('My number is 415-555-4242.')\n",
    "print(mo.group(0))"
   ]
  },
  {
   "cell_type": "code",
   "execution_count": null,
   "id": "cc215917",
   "metadata": {},
   "outputs": [],
   "source": [
    "print(mo.group(1))"
   ]
  },
  {
   "cell_type": "code",
   "execution_count": null,
   "id": "d13a94cc",
   "metadata": {},
   "outputs": [],
   "source": [
    "print(mo.group(2))"
   ]
  },
  {
   "cell_type": "raw",
   "id": "9b27e882",
   "metadata": {},
   "source": [
    "6. In standard expression syntax, parentheses and intervals have distinct meanings. How can you tell a regex that you want\n",
    "it to fit real parentheses and periods?\n",
    "\n",
    "The \\( and \\) escape characters in the raw string passed to re.compile() will match actual parenthesis characters, so that the expression containing parentheses and intervals can be considered."
   ]
  },
  {
   "cell_type": "raw",
   "id": "ee6b04c5",
   "metadata": {},
   "source": [
    "7. The findall() method returns a string list or a list of string tuples. What causes it to return one of the two options?\n",
    "\n",
    "The findall() method returns a string list.\n",
    "If the pattern includes 2 or more parenthesis groups, then instead of returning a list of strings, findall() returns a list of tuples. Each tuple represents one match of the pattern, and inside the tuple is the group(1), group(2) .. data."
   ]
  },
  {
   "cell_type": "raw",
   "id": "6ef78df3",
   "metadata": {},
   "source": [
    "8. In standard expressions, what does the | character mean?\n",
    "\n",
    "Its a bitwise or operator"
   ]
  },
  {
   "cell_type": "raw",
   "id": "089666b1",
   "metadata": {},
   "source": [
    "9. In regular expressions, what does the character stand for?\n",
    "\n",
    "In a regular expression the character forms a search pattern"
   ]
  },
  {
   "cell_type": "raw",
   "id": "d73939ee",
   "metadata": {},
   "source": [
    "10.In regular expressions, what is the difference between the + and * characters?\n",
    "\n",
    "* Matches zero or more repetitions of a given regular expression in Python\n",
    "+ matches one or more occurrences of the regular expression."
   ]
  },
  {
   "cell_type": "raw",
   "id": "736ad5e0",
   "metadata": {},
   "source": [
    "11. What is the difference between {4} and {4,5} in regular expression?\n",
    "\n",
    "{4}:  The preceding element or subexpression must occur exactly 4 times\n",
    "\n",
    "{4,5} :The preceding element or subexpression must occur between 4 and 5 times, inclusive."
   ]
  },
  {
   "cell_type": "raw",
   "id": "d9d49271",
   "metadata": {},
   "source": [
    "12. What do you mean by the \\d, \\w, and \\s shorthand character classes signify in regular expressions?\n",
    "\n",
    "\\d matches any decimal digit character in the given string\n",
    "\\w matches any alphanumeric word character\n",
    "\\s matches any whitespace character"
   ]
  },
  {
   "cell_type": "raw",
   "id": "58e20291",
   "metadata": {},
   "source": [
    "13. What do means by \\D, \\W, and \\S shorthand character classes signify in regular expressions?\n",
    "\n",
    "\\D matches anycharacter that is not a decimal digit character in the given string\n",
    "\\W matches any character that is not a alphanumeric word character\n",
    "\\S matches any character that is not a whitespace:"
   ]
  },
  {
   "cell_type": "raw",
   "id": "9a3d6552",
   "metadata": {},
   "source": [
    "14. What is the difference between .*? and .*?\n",
    "\n",
    "The .* causes to match the whole pattern as one big match. The .* goes as far as is it can, instead of stopping at the first encounter of apattern. Hence also called as \"greedy\"\n",
    "\n",
    "The .*? causes to stop at the first match and only a first match is printed. Hence also called as \"Non-greedy\""
   ]
  },
  {
   "cell_type": "code",
   "execution_count": null,
   "id": "1f60feb9",
   "metadata": {},
   "outputs": [],
   "source": [
    "#15. What is the syntax for matching both numbers and lowercase letters with a character class?\n",
    "\n",
    "import re\n",
    "\n",
    "a = re.findall('[^\\W]', 'sjdd$6767')\n",
    "\n",
    "a"
   ]
  },
  {
   "cell_type": "raw",
   "id": "f4a594a5",
   "metadata": {},
   "source": [
    "16. What is the procedure for making a normal expression in regax case insensitive?\n",
    "\n",
    "Assign re.IGNORECASE as an optional parameter in regular expression for making a normal expression in regax case insensitive\n",
    "\n",
    "re.search('test', 'TeSt', re.IGNORECASE)\n",
    "re.match('test', 'TeSt', re.IGNORECASE)"
   ]
  },
  {
   "cell_type": "raw",
   "id": "f4d73a4b",
   "metadata": {},
   "source": [
    "17. What does the . character normally match? What does it match if re.DOTALL is passed as 2nd argument in re.compile()?\n",
    "\n",
    "The dot character . in regular expressions matches any character excluding the newline character.\n",
    "re.DOTALL is related to multiline text and allows dot to match newlines as well."
   ]
  },
  {
   "cell_type": "code",
   "execution_count": null,
   "id": "c1d61d7b",
   "metadata": {},
   "outputs": [],
   "source": [
    "#18. If numReg = re.compile(r'\\d+'), what will numRegex.sub('X', '11 drummers, 10 pipers, five rings, 4 hen') return?\n",
    "\n",
    "import re\n",
    "numReg = re.compile(r'\\d+')\n",
    "numReg.sub('X', '11 drummers, 10 pipers, five rings, 4 hen')"
   ]
  },
  {
   "cell_type": "raw",
   "id": "03f6ecb7",
   "metadata": {},
   "source": [
    "19. What does passing re.VERBOSE as the 2nd argument to re.compile() allow to do?\n",
    "\n",
    "re.VERBOSE allows to write regular expressions that look nicer and are more readable by allowing you to visually separate logical sections of the pattern and add comments."
   ]
  },
  {
   "cell_type": "code",
   "execution_count": null,
   "id": "f2390d6f",
   "metadata": {},
   "outputs": [],
   "source": [
    "''' 20. How would you write a regex that match a number with comma for every three digits? It must match the given following:\n",
    "'42'\n",
    "'1,234'\n",
    "'6,368,745'\n",
    "but not the following:\n",
    "'12,34,567' (which has only two digits between the commas)\n",
    "'1234' (which lacks commas)    '''\n",
    "\n",
    "import re\n",
    "\n",
    "s=str(input(print(\"Enter a input\")))\n",
    "\n",
    "\n",
    "a = re.findall('[0-9](?=(?:[0-9]{3})+(?![0-9]))', s)\n",
    "\n",
    "print(a)\n"
   ]
  },
  {
   "cell_type": "raw",
   "id": "486e993e",
   "metadata": {},
   "source": [
    "21. How would you write a regex that matches the full name of someone whose last name is Watanabe? You can assume that the first name that comes before it will always be one word that begins with a capital letter. The regex must match the following:\n",
    "'Haruto Watanabe'\n",
    "'Alice Watanabe'\n",
    "'RoboCop Watanabe'\n",
    "but not the following:\n",
    "'haruto Watanabe' (where the first name is not capitalized)\n",
    "'Mr. Watanabe' (where the preceding word has a nonletter character)\n",
    "'Watanabe' (which has no first name)\n",
    "'Haruto watanabe' (where Watanabe is not capitalized)"
   ]
  },
  {
   "cell_type": "code",
   "execution_count": null,
   "id": "143eaa8e",
   "metadata": {},
   "outputs": [],
   "source": [
    "import re\n",
    "\n",
    "s=str(input(print(\"Enter a input\")))\n",
    "\n",
    "\n",
    "a = re.findall('[0-9](?=(?:[0-9]{3})+(?![0-9]))', s)\n",
    "\n",
    "print(a)\n"
   ]
  },
  {
   "cell_type": "raw",
   "id": "320d4d81",
   "metadata": {},
   "source": [
    "22. How would you write a regex that matches a sentence where the first word is either Alice, Bob, or Carol; the second word is either eats, pets, or throws; the third word is apples, cats, or baseballs; and the sentence ends with a period? This regex should be case-insensitive. It must match the following:\n",
    "'Alice eats apples.'\n",
    "'Bob pets cats.'\n",
    "'Carol throws baseballs.'\n",
    "'Alice throws Apples.'\n",
    "'BOB EATS CATS.'\n",
    "but not the following:\n",
    "'RoboCop eats apples.'\n",
    "'ALICE THROWS FOOTBALLS.'\n",
    "'Carol eats 7 cats.'"
   ]
  }
 ],
 "metadata": {
  "kernelspec": {
   "display_name": "Python 3",
   "language": "python",
   "name": "python3"
  },
  "language_info": {
   "codemirror_mode": {
    "name": "ipython",
    "version": 3
   },
   "file_extension": ".py",
   "mimetype": "text/x-python",
   "name": "python",
   "nbconvert_exporter": "python",
   "pygments_lexer": "ipython3",
   "version": "3.8.8"
  }
 },
 "nbformat": 4,
 "nbformat_minor": 5
}
