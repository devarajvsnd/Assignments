{
 "cells": [
  {
   "cell_type": "code",
   "execution_count": null,
   "id": "cf64b38b",
   "metadata": {},
   "outputs": [],
   "source": []
  },
  {
   "cell_type": "raw",
   "id": "692a23ff",
   "metadata": {},
   "source": [
    "1. Is the Python Standard Library included with PyInputPlus?\n",
    "\n",
    "No. the Python Standard Library is not included with PyInputPlus and need to Install the module via pip command "
   ]
  },
  {
   "cell_type": "raw",
   "id": "2ee5c9ca",
   "metadata": {},
   "source": [
    "2. Why is PyInputPlus commonly imported with import pyinputplus as pypi?\n",
    "\n",
    "You can import the module with import pyinputplus as pyip so that you can enter a shorter name when calling the module's functions."
   ]
  },
  {
   "cell_type": "raw",
   "id": "13e3a8df",
   "metadata": {},
   "source": [
    "3. How do you distinguish between inputInt() and inputFloat()?\n",
    "\n",
    "inputInt() : Accepts an integer value. This also takes additional parameters ‘min’, ‘max’, ‘greaterThan’ and ‘lessThan’  for bounds. Returns an int.\n",
    "inputFloat() : Accepts a floating-point numeric value. Also takes additional ‘min’, ‘max’, ‘greaterThan’ and ‘lessThan’  parameters. Returns a float."
   ]
  },
  {
   "cell_type": "raw",
   "id": "8c1b4ca2",
   "metadata": {},
   "source": [
    "4. Using PyInputPlus, how do you ensure that the user enters a whole number between 0 and 99?\n",
    "\n",
    "By using the inputInt() function, in which the minimum value is specified as 0 and maximum as 99"
   ]
  },
  {
   "cell_type": "raw",
   "id": "dd1e1312",
   "metadata": {},
   "source": [
    "5. What is transferred to the keyword arguments allowRegexes and blockRegexes?\n",
    "\n",
    "We can use the PyInputPlus package to validate command line input values by using allowRegexes and blockRegexes functions.\n",
    "a format which needs to be the input is transferred to the keyword arguments allowRegexes and blockRegexes."
   ]
  },
  {
   "cell_type": "raw",
   "id": "d7435b21",
   "metadata": {},
   "source": [
    "6. If a blank input is entered three times, what does inputStr(limit=3) do?\n",
    "\n",
    "It will raise an RetryLimitException "
   ]
  },
  {
   "cell_type": "raw",
   "id": "8225cccd",
   "metadata": {},
   "source": [
    "7. If blank input is entered three times, what does inputStr(limit=3, default='hello') do?\n",
    "\n",
    "It returns the value 'hello' to the variable username"
   ]
  }
 ],
 "metadata": {
  "kernelspec": {
   "display_name": "Python 3",
   "language": "python",
   "name": "python3"
  },
  "language_info": {
   "codemirror_mode": {
    "name": "ipython",
    "version": 3
   },
   "file_extension": ".py",
   "mimetype": "text/x-python",
   "name": "python",
   "nbconvert_exporter": "python",
   "pygments_lexer": "ipython3",
   "version": "3.8.8"
  }
 },
 "nbformat": 4,
 "nbformat_minor": 5
}
