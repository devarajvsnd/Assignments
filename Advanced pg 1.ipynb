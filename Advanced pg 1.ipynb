{
 "cells": [
  {
   "cell_type": "code",
   "execution_count": null,
   "id": "7823ce12",
   "metadata": {},
   "outputs": [],
   "source": [
    "import numpy as np"
   ]
  },
  {
   "cell_type": "code",
   "execution_count": null,
   "id": "3e434471",
   "metadata": {},
   "outputs": [],
   "source": [
    "def check_score(slist):\n",
    "    flatten_contents = [val for sublist in slist for val in sublist]\n",
    "    sum=0\n",
    "    for i in range(0, len(flatten_contents)):\n",
    "        if flatten_contents[i]=='#':\n",
    "            sum=sum+5\n",
    "        elif flatten_contents[i]=='O':\n",
    "            sum=sum+3\n",
    "        elif flatten_contents[i]=='X':\n",
    "            sum=sum+1\n",
    "        elif flatten_contents[i]=='!':\n",
    "            sum=sum-1\n",
    "        elif flatten_contents[i]=='!!':\n",
    "            sum=sum-3\n",
    "        elif flatten_contents[i]=='!!!':\n",
    "            sum=sum-5\n",
    "    if sum<0:\n",
    "        sum=0\n",
    "    print(sum)    \n",
    "  "
   ]
  },
  {
   "cell_type": "code",
   "execution_count": null,
   "id": "630c7181",
   "metadata": {},
   "outputs": [],
   "source": [
    "check_score([\n",
    "[\"#\", \"!\"],\n",
    "[\"!!\", \"X\"]\n",
    "])"
   ]
  },
  {
   "cell_type": "code",
   "execution_count": null,
   "id": "2e7cbf6c",
   "metadata": {},
   "outputs": [],
   "source": [
    "check_score([\n",
    "[\"!!!\", \"O\", \"!\"],\n",
    "[\"X\", \"#\", \"!!!\"],\n",
    "[\"!!\", \"X\", \"O\"]\n",
    "]) \n"
   ]
  },
  {
   "cell_type": "raw",
   "id": "4a4d7789",
   "metadata": {},
   "source": [
    "2. Create a function that takes a variable number of arguments, each argument representing the number of items in a group, and returns the number of permutations (combinations) of items that you could get by taking one item from each group."
   ]
  },
  {
   "cell_type": "code",
   "execution_count": null,
   "id": "9aee02f5",
   "metadata": {},
   "outputs": [],
   "source": [
    "def combinations(*argv):\n",
    "    result=1\n",
    "    for arg in argv:\n",
    "        result =result*arg\n",
    "    print(result)"
   ]
  },
  {
   "cell_type": "code",
   "execution_count": null,
   "id": "42d20d4b",
   "metadata": {},
   "outputs": [],
   "source": [
    "combinations(2, 3) \n",
    "\n",
    "combinations(3, 7, 4) \n",
    "\n",
    "combinations(2, 3, 4, 5) \n"
   ]
  },
  {
   "cell_type": "code",
   "execution_count": 127,
   "id": "e0b66f3d",
   "metadata": {},
   "outputs": [],
   "source": [
    "def encode_morse(sentence):\n",
    "    \n",
    "    s=''\n",
    "    char_to_dots = {\n",
    "    'A': '.-', 'B': '-...', 'C': '-.-.', 'D': '-..', 'E': '.', 'F': '..-.',\n",
    "    'G': '--.', 'H': '....', 'I': '..', 'J': '.---', 'K': '-.-', 'L': '.-..',\n",
    "    'M': '--', 'N': '-.', 'O': '---', 'P': '.--.', 'Q': '--.-', 'R': '.-.',\n",
    "    'S': '...', 'T': '-', 'U': '..-', 'V': '...-', 'W': '.--', 'X': '-..-',\n",
    "    'Y': '-.--', 'Z': '--..', '': '', '0': '-----',\n",
    "    '1': '.----', '2': '..---', '3': '...--', '4': '....-', '5': '.....',\n",
    "    '6': '-....', '7': '--...', '8': '---..', '9': '----.',\n",
    "    '&': '.-...', \"'\": '.----.', '@': '.--.-.', ')': '-.--.-', '(': '-.--.',\n",
    "    ':': '---...', ',': '--..--', '=': '-...-', '!': '-.-.--', '.': '.-.-.-',\n",
    "    '-': '-....-', '+': '.-.-.', '\"': '.-..-.', '?': '..--..', '/': '-..-.'\n",
    "    }\n",
    "    \n",
    "   \n",
    "    for i in range(len (sentence)):\n",
    "        if sentence[i]==' ':\n",
    "            s=s + ' '\n",
    "        else:\n",
    "            s=s + char_to_dots[sentence[i]] + '\\t'\n",
    "        \n",
    "    print(s)\n"
   ]
  },
  {
   "cell_type": "code",
   "execution_count": 128,
   "id": "850e9f70",
   "metadata": {},
   "outputs": [
    {
     "name": "stdout",
     "output_type": "stream",
     "text": [
      ".\t-..\t.-\t-...\t-...\t..\t-\t -.-.\t....\t.-\t.-..\t.-..\t.\t-.\t--.\t.\t\n"
     ]
    }
   ],
   "source": [
    "encode_morse(\"EDABBIT CHALLENGE\")"
   ]
  },
  {
   "cell_type": "code",
   "execution_count": 129,
   "id": "e0fce2b0",
   "metadata": {},
   "outputs": [
    {
     "name": "stdout",
     "output_type": "stream",
     "text": [
      "....\t.\t.-..\t.--.\t --\t.\t -.-.--\t\n"
     ]
    }
   ],
   "source": [
    "encode_morse(\"HELP ME !\") "
   ]
  },
  {
   "cell_type": "raw",
   "id": "58073690",
   "metadata": {},
   "source": [
    "Write a function that takes a number and returns True if it's a prime; False otherwise. The number can be 2^64-1 (2 to the power of 63, not XOR). With the standard technique it would be O(2^64-1), which is much too large for the 10 second time limit."
   ]
  },
  {
   "cell_type": "code",
   "execution_count": 137,
   "id": "a78db147",
   "metadata": {},
   "outputs": [
    {
     "name": "stdout",
     "output_type": "stream",
     "text": [
      "True\n"
     ]
    }
   ],
   "source": [
    "def test_prime(n):\n",
    "    if (n==1):\n",
    "        return False\n",
    "    elif (n==2):\n",
    "        return True;\n",
    "    else:\n",
    "        for x in range(2,n):\n",
    "            if(n % x==0):\n",
    "                return False\n",
    "        return True \n",
    "    \n",
    "print(test_prime(2^64-1))"
   ]
  },
  {
   "cell_type": "raw",
   "id": "8b279596",
   "metadata": {},
   "source": [
    "1. Locate the position of the letter in the English alphabet (from 1 to 26).\n",
    "2. Odd positions will be represented as 1 and 0 otherwise.\n",
    "3. Convert the represented positions to boolean values, 1 for True and 0 for False.\n",
    "4. Store the conversions into an array.\n"
   ]
  },
  {
   "cell_type": "code",
   "execution_count": 199,
   "id": "dc722726",
   "metadata": {},
   "outputs": [],
   "source": [
    "def to_bitstrinig_boolean_list(sentence):\n",
    "    bit=[]\n",
    "    for i in range(len (sentence)):\n",
    "        if (ord(sentence[i])-64)%2==0:\n",
    "            bit.append(False)\n",
    "        else:\n",
    "             bit.append(True)\n",
    "    print(bit)    "
   ]
  },
  {
   "cell_type": "code",
   "execution_count": 202,
   "id": "1cfe55bf",
   "metadata": {},
   "outputs": [
    {
     "name": "stdout",
     "output_type": "stream",
     "text": [
      "[False, True, True, False]\n",
      "[False, True, False, True, True]\n",
      "[False, True, True, False]\n"
     ]
    }
   ],
   "source": [
    "to_bitstrinig_boolean_list(\"deep\")\n",
    "to_bitstrinig_boolean_list(\"loves\")\n",
    "to_bitstrinig_boolean_list(\"tesh\")\n"
   ]
  },
  {
   "cell_type": "code",
   "execution_count": null,
   "id": "4a3a9032",
   "metadata": {},
   "outputs": [],
   "source": []
  }
 ],
 "metadata": {
  "kernelspec": {
   "display_name": "Python 3",
   "language": "python",
   "name": "python3"
  },
  "language_info": {
   "codemirror_mode": {
    "name": "ipython",
    "version": 3
   },
   "file_extension": ".py",
   "mimetype": "text/x-python",
   "name": "python",
   "nbconvert_exporter": "python",
   "pygments_lexer": "ipython3",
   "version": "3.8.8"
  }
 },
 "nbformat": 4,
 "nbformat_minor": 5
}
