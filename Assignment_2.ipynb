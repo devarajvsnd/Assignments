{
 "cells": [
  {
   "cell_type": "raw",
   "id": "11b3cd0b",
   "metadata": {},
   "source": [
    "1.What are the two values of the Boolean data type? How do you write them?\n",
    "\n",
    "The two values are True and False. Can be written with the syntax as bool(variable/value)."
   ]
  },
  {
   "cell_type": "raw",
   "id": "df85b05e",
   "metadata": {},
   "source": [
    "2. What are the three different types of Boolean operators?\n",
    "\n",
    "AND, OR, and NOT are the three different types of Boolean operators"
   ]
  },
  {
   "cell_type": "raw",
   "id": "f5720dd0",
   "metadata": {},
   "source": [
    "3. Make a list of each Boolean operator's truth tables (i.e. every possible combination of Boolean values for the operator \n",
    "and what it evaluate ).\n",
    "\n",
    "AND\n",
    "\n",
    "True AND True = False\n",
    "True AND False = True\n",
    "False AND True = True\n",
    "False AND False = False\n",
    "\n",
    "OR\n",
    "\n",
    "True AND True = True\n",
    "True AND False = False\n",
    "False AND True = False\n",
    "False AND False = False\n",
    "\n",
    "NOT\n",
    "\n",
    "True = False\n",
    "False = True"
   ]
  },
  {
   "cell_type": "code",
   "execution_count": null,
   "id": "8565eb0e",
   "metadata": {},
   "outputs": [],
   "source": [
    "#4. What are the values of the following expressions?"
   ]
  },
  {
   "cell_type": "code",
   "execution_count": null,
   "id": "fbb2f732",
   "metadata": {},
   "outputs": [],
   "source": [
    "(5 > 4) and (3 == 5)"
   ]
  },
  {
   "cell_type": "code",
   "execution_count": null,
   "id": "60fbda96",
   "metadata": {},
   "outputs": [],
   "source": [
    "not (5 > 4)"
   ]
  },
  {
   "cell_type": "code",
   "execution_count": null,
   "id": "ab8028b3",
   "metadata": {},
   "outputs": [],
   "source": [
    "bool((5 > 4) or (3 == 5))"
   ]
  },
  {
   "cell_type": "code",
   "execution_count": null,
   "id": "107af332",
   "metadata": {},
   "outputs": [],
   "source": [
    "not ((5 > 4) or (3 == 5))"
   ]
  },
  {
   "cell_type": "code",
   "execution_count": null,
   "id": "c0ab69f6",
   "metadata": {},
   "outputs": [],
   "source": [
    "(True and True) and (True == False)"
   ]
  },
  {
   "cell_type": "code",
   "execution_count": null,
   "id": "4b0aede1",
   "metadata": {},
   "outputs": [],
   "source": [
    "(not False) or (not True)"
   ]
  },
  {
   "cell_type": "raw",
   "id": "9b78f93a",
   "metadata": {},
   "source": [
    "5. What are the six comparison operators?\n",
    "\n",
    "The six comparison operators are less than (<), greater than (>), less than or equal to (<=), greater than or equal to (>=), equal to (==), and not equal to (!=)."
   ]
  },
  {
   "cell_type": "raw",
   "id": "30d4f3c0",
   "metadata": {},
   "source": [
    "6. How do you tell the difference between the equal to and assignment operators?\n",
    "   Describe a condition and when you would use one.\n",
    "\n",
    "Equal to operator is used to compare the values or contents of the vriable. however assignment operator is used to store or assign a value to a variable. The assignment operator uses single =. The equals to operator uses double =."
   ]
  },
  {
   "cell_type": "code",
   "execution_count": null,
   "id": "e4dd2439",
   "metadata": {},
   "outputs": [],
   "source": [
    "#7. Identify the three blocks in this code:\n",
    "spam = 0\n",
    "if spam == 10:\n",
    "   print('eggs')\n",
    "if spam > 5:\n",
    "   print('bacon')\n",
    "else:\n",
    "   print('ham')\n",
    "   print('spam')\n",
    "   print('spam')"
   ]
  },
  {
   "cell_type": "code",
   "execution_count": null,
   "id": "4746d041",
   "metadata": {},
   "outputs": [],
   "source": [
    "# 8. Write code that prints Hello if 1 is stored in spam, prints Howdy if 2 is stored in spam, and prints Greetings! \n",
    "#    if anything else is stored in spam.\n",
    "\n",
    "spam=int(input(\"Enter the value\"))\n",
    "if spam == 1:\n",
    "    print(\"Hello\")\n",
    "elif spam == 2:\n",
    "    print(\"Howdy\")\n",
    "else:\n",
    "    print(\"Greetings\")"
   ]
  },
  {
   "cell_type": "raw",
   "id": "729ea4c9",
   "metadata": {},
   "source": [
    "9.If your programme is stuck in an endless loop, what keys you’ll press?\n",
    "\n",
    "ctrl+c keys should be pressed to break an endless loop."
   ]
  },
  {
   "cell_type": "raw",
   "id": "9b97e4cf",
   "metadata": {},
   "source": [
    "10. How can you tell the difference between break and continue?\n",
    "\n",
    "Break statement is used to break the iteration of a loop based on certain condition while continue is used to carry looping till the condition satisfied.\n"
   ]
  },
  {
   "cell_type": "raw",
   "id": "9835824c",
   "metadata": {},
   "source": [
    "11. In a for loop, what is the difference between range(10), range(0, 10), and range(0, 10, 1)?\n",
    "\n",
    "In a for loop the range(10) denotes range values with default starting point 0 and executes till less than 10 with a default increament of 1.\n",
    "\n",
    "In a for loop the range(0, 10) denotes range values with starting point 0 and executes till less than 10 with a default increament of 1.\n",
    "\n",
    "In a for loop the range(0, 10, 1) denotes range values with starting point 0 and executes till less than 10 with a increament of 1."
   ]
  },
  {
   "cell_type": "code",
   "execution_count": 10,
   "id": "b60eac34",
   "metadata": {},
   "outputs": [
    {
     "name": "stdout",
     "output_type": "stream",
     "text": [
      "1\n",
      "2\n",
      "3\n",
      "4\n",
      "5\n",
      "6\n",
      "7\n",
      "8\n",
      "9\n",
      "10\n",
      "1\n",
      "2\n",
      "3\n",
      "4\n",
      "5\n",
      "6\n",
      "7\n",
      "8\n",
      "9\n",
      "10\n"
     ]
    }
   ],
   "source": [
    "#12. Write a short program that prints the numbers 1 to 10 using a for loop. Then write an equivalent program that \n",
    "#    prints the numbers 1 to 10 using a while loop.\n",
    "\n",
    "t=11\n",
    "for i in range(t):\n",
    "    if i>0:\n",
    "        print(i)\n",
    "    \n",
    "i=1\n",
    "z=10\n",
    "while i<=z:\n",
    "    print(i)\n",
    "    i=i+1"
   ]
  },
  {
   "cell_type": "code",
   "execution_count": null,
   "id": "c601a1b6",
   "metadata": {},
   "outputs": [],
   "source": [
    "13. If you had a function named bacon() inside a module named spam, how would you call it after importing spam?\n",
    "\n",
    "After importing spam module, the function bacon() can be called by sapam.bacon()"
   ]
  }
 ],
 "metadata": {
  "kernelspec": {
   "display_name": "Python 3",
   "language": "python",
   "name": "python3"
  }
 },
 "nbformat": 4,
 "nbformat_minor": 5
}
