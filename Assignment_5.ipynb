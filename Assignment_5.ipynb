{
 "cells": [
  {
   "cell_type": "code",
   "execution_count": 3,
   "id": "178f38e4",
   "metadata": {},
   "outputs": [],
   "source": [
    "#1. What does an empty dictionary's code look like?\n",
    "\n",
    "a={}"
   ]
  },
  {
   "cell_type": "code",
   "execution_count": 4,
   "id": "beb4442f",
   "metadata": {},
   "outputs": [
    {
     "data": {
      "text/plain": [
       "dict"
      ]
     },
     "execution_count": 4,
     "metadata": {},
     "output_type": "execute_result"
    }
   ],
   "source": [
    "type(a)"
   ]
  },
  {
   "cell_type": "code",
   "execution_count": 6,
   "id": "24e8d897",
   "metadata": {},
   "outputs": [],
   "source": [
    "# 2. What is the value of a dictionary value with the key 'foo' and the value 42?\n",
    "# The value of the dictionary is 42.\n",
    "\n",
    "a={'foo':42}"
   ]
  },
  {
   "cell_type": "code",
   "execution_count": 8,
   "id": "ed20552d",
   "metadata": {},
   "outputs": [
    {
     "data": {
      "text/plain": [
       "dict_values([42])"
      ]
     },
     "execution_count": 8,
     "metadata": {},
     "output_type": "execute_result"
    }
   ],
   "source": [
    "a.values()"
   ]
  },
  {
   "cell_type": "raw",
   "id": "f5840d0f",
   "metadata": {},
   "source": [
    "3. What is the most significant distinction between a dictionary and a list?\n",
    "\n",
    "The items in dictionaries are accessed via keys and not via their position, whereas the list values are accessed by their positions."
   ]
  },
  {
   "cell_type": "code",
   "execution_count": 11,
   "id": "9fc79d49",
   "metadata": {},
   "outputs": [],
   "source": [
    "#4. What happens if you try to access spam['foo'] if spam is {'bar': 100}?\n",
    "\n",
    "#The code shows error as thereis no key foo and we are trying to access the same."
   ]
  },
  {
   "cell_type": "code",
   "execution_count": 22,
   "id": "abe5dd83",
   "metadata": {},
   "outputs": [
    {
     "data": {
      "text/plain": [
       "dict_keys(['key1', 'key', 'key2', 'key3'])"
      ]
     },
     "execution_count": 22,
     "metadata": {},
     "output_type": "execute_result"
    }
   ],
   "source": [
    "#5. If a dictionary is stored in spam, what is the difference between the expressions 'cat' in spam and 'cat' \n",
    "#   in spam.keys()?\n",
    "\n",
    "spam={'key1': 'ineruon', 'key': 'FSDS', 'key2': 456, 'key3': [1, 2, 3, 4, 5]}\n",
    "\n",
    "spam.keys()"
   ]
  },
  {
   "cell_type": "raw",
   "id": "3b66a419",
   "metadata": {},
   "source": [
    "6. If a dictionary is stored in spam, what is the difference between the expressions 'cat' in spam and 'cat' in spam.values()?\n"
   ]
  },
  {
   "cell_type": "code",
   "execution_count": 35,
   "id": "eb328cbb",
   "metadata": {},
   "outputs": [
    {
     "data": {
      "text/plain": [
       "{'key1': 'ineruon',\n",
       " 'key': 'FSDS',\n",
       " 'key2': 456,\n",
       " 'key3': [1, 2, 3, 4, 5],\n",
       " 'color': 'black'}"
      ]
     },
     "execution_count": 35,
     "metadata": {},
     "output_type": "execute_result"
    }
   ],
   "source": [
    "# 7. What is a shortcut for the following code?\n",
    "# if 'color' not in spam:\n",
    "# spam['color'] = 'black'\n",
    "\n",
    "spam={'key1': 'ineruon', 'key': 'FSDS', 'key2': 456, 'key3': [1, 2, 3, 4, 5]}\n",
    "\n",
    "if spam.keys() != 'color':\n",
    "    d={'color':'black'}\n",
    "    spam.update(d) \n",
    "    \n",
    "spam"
   ]
  },
  {
   "cell_type": "raw",
   "id": "eb704a03",
   "metadata": {},
   "source": [
    "8. How do you \"pretty print\" dictionary values using which module and function?\n",
    "\n",
    "The pprint module provides a capability to “pretty-print”.\n",
    "\n",
    "The function to be used is pprint()\n"
   ]
  }
 ],
 "metadata": {
  "kernelspec": {
   "display_name": "Python 3",
   "language": "python",
   "name": "python3"
  },
  "language_info": {
   "codemirror_mode": {
    "name": "ipython",
    "version": 3
   },
   "file_extension": ".py",
   "mimetype": "text/x-python",
   "name": "python",
   "nbconvert_exporter": "python",
   "pygments_lexer": "ipython3",
   "version": "3.8.8"
  }
 },
 "nbformat": 4,
 "nbformat_minor": 5
}
