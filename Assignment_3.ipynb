{
 "cells": [
  {
   "cell_type": "raw",
   "id": "95770086",
   "metadata": {},
   "source": [
    "1. Why are functions advantageous to have in your programs?\n",
    "\n",
    "The functions can be called whenever a similar task is to be performed without duplicating the same code again and gives flexibility while coding."
   ]
  },
  {
   "cell_type": "raw",
   "id": "e8c1d2e8",
   "metadata": {},
   "source": [
    "2. When does the code in a function run: when it's specified or when it's called?\n",
    "    \n",
    "The code in a function run, when it called by passing relevant values or none. However the code should be specified earlier."
   ]
  },
  {
   "cell_type": "raw",
   "id": "172a3626",
   "metadata": {},
   "source": [
    "3. What statement creates a function?\n",
    "\n",
    "The statement starting with the keyword def followed by the function name will create a function."
   ]
  },
  {
   "cell_type": "raw",
   "id": "d06299ca",
   "metadata": {},
   "source": [
    "4. What is the difference between a function and a function call?\n",
    "\n",
    "A function is creation of procedure to achieve certain result, whereas a function call is using this function to achieve the result. The resuts cannot be obtained unless the the function is called eventhough the function is created."
   ]
  },
  {
   "cell_type": "raw",
   "id": "10b5f69b",
   "metadata": {},
   "source": [
    "5. How many global scopes are there in a Python program? How many local scopes?\n",
    "\n",
    "There as as many global scopes and local scopes in Python"
   ]
  },
  {
   "cell_type": "raw",
   "id": "ee91c3ed",
   "metadata": {},
   "source": [
    "6. What happens to variables in a local scope when the function call returns?\n",
    "\n",
    "A local variable becomes undefined after the function call returns"
   ]
  },
  {
   "cell_type": "raw",
   "id": "d5bd7f29",
   "metadata": {},
   "source": [
    "7. What is the concept of a return value? Is it possible to have a return value in an expression?\n",
    "\n",
    "Certain functions are expected to return certain output and are called return value. The return value can be included in an expression by passing suitable inputs."
   ]
  },
  {
   "cell_type": "code",
   "execution_count": null,
   "id": "ce4cb896",
   "metadata": {},
   "outputs": [],
   "source": [
    "7. What is the concept of a return value? Is it possible to have a return value in an expression"
   ]
  },
  {
   "cell_type": "raw",
   "id": "438d040e",
   "metadata": {},
   "source": [
    "8. If a function does not have a return statement, what is the return value of a call to that function?\n",
    "\n",
    "The return value of such functions will be None."
   ]
  },
  {
   "cell_type": "code",
   "execution_count": 4,
   "id": "6e4bf00e",
   "metadata": {},
   "outputs": [
    {
     "name": "stdout",
     "output_type": "stream",
     "text": [
      "Object `variable` not found.\n"
     ]
    }
   ],
   "source": [
    "9. How do you make a function variable refer to the global variable?"
   ]
  },
  {
   "cell_type": "code",
   "execution_count": null,
   "id": "50b98592",
   "metadata": {},
   "outputs": [],
   "source": [
    "9. How do you make a function variable refer to the global variable\n",
    "\n",
    "The function can refer to a global variable by declaring the variable as global inside a function."
   ]
  },
  {
   "cell_type": "code",
   "execution_count": 13,
   "id": "5210bdd8",
   "metadata": {},
   "outputs": [
    {
     "data": {
      "text/plain": [
       "NoneType"
      ]
     },
     "execution_count": 13,
     "metadata": {},
     "output_type": "execute_result"
    }
   ],
   "source": [
    "# 10. What is the data type of None?\n",
    "#  it is a data type of the class NoneType\n",
    "type(None)"
   ]
  },
  {
   "cell_type": "code",
   "execution_count": 14,
   "id": "8f75b877",
   "metadata": {},
   "outputs": [
    {
     "name": "stdout",
     "output_type": "stream",
     "text": [
      "Object `do` not found.\n"
     ]
    },
    {
     "ename": "ModuleNotFoundError",
     "evalue": "No module named 'areallyourpetsnamederic'",
     "output_type": "error",
     "traceback": [
      "\u001b[1;31m---------------------------------------------------------------------------\u001b[0m",
      "\u001b[1;31mModuleNotFoundError\u001b[0m                       Traceback (most recent call last)",
      "\u001b[1;32m<ipython-input-14-3be003ccaed4>\u001b[0m in \u001b[0;36m<module>\u001b[1;34m\u001b[0m\n\u001b[0;32m      1\u001b[0m \u001b[0mget_ipython\u001b[0m\u001b[1;33m(\u001b[0m\u001b[1;33m)\u001b[0m\u001b[1;33m.\u001b[0m\u001b[0mrun_line_magic\u001b[0m\u001b[1;33m(\u001b[0m\u001b[1;34m'pinfo'\u001b[0m\u001b[1;33m,\u001b[0m \u001b[1;34m'do'\u001b[0m\u001b[1;33m)\u001b[0m\u001b[1;33m\u001b[0m\u001b[1;33m\u001b[0m\u001b[0m\n\u001b[1;32m----> 2\u001b[1;33m \u001b[1;32mimport\u001b[0m \u001b[0mareallyourpetsnamederic\u001b[0m\u001b[1;33m\u001b[0m\u001b[1;33m\u001b[0m\u001b[0m\n\u001b[0m",
      "\u001b[1;31mModuleNotFoundError\u001b[0m: No module named 'areallyourpetsnamederic'"
     ]
    }
   ],
   "source": [
    "11. What does the sentence import areallyourpetsnamederic do?\n",
    "# The Module is not created and hence the error\n",
    "import areallyourpetsnamederic"
   ]
  },
  {
   "cell_type": "raw",
   "id": "336f4089",
   "metadata": {},
   "source": [
    "12. If you had a bacon() feature in a spam module, what would you call it after importing spam?\n",
    "\n",
    "spam.bacon()"
   ]
  },
  {
   "cell_type": "raw",
   "id": "8675a8cb",
   "metadata": {},
   "source": [
    "13. What can you do to save a programme from crashing if it encounters an error?\n",
    "\n",
    "Error handling can be used to notify the user of why the error occurred and gracefully exit the process that caused the error."
   ]
  },
  {
   "cell_type": "raw",
   "id": "7c41e268",
   "metadata": {},
   "source": [
    "14. What is the purpose of the try clause? What is the purpose of the except clause?\n",
    "\n",
    "The try block allows you to test a block of code for errors. The except block enables you to handle the error with a user-defined response."
   ]
  }
 ],
 "metadata": {
  "kernelspec": {
   "display_name": "Python 3",
   "language": "python",
   "name": "python3"
  },
  "language_info": {
   "codemirror_mode": {
    "name": "ipython",
    "version": 3
   },
   "file_extension": ".py",
   "mimetype": "text/x-python",
   "name": "python",
   "nbconvert_exporter": "python",
   "pygments_lexer": "ipython3",
   "version": "3.8.8"
  }
 },
 "nbformat": 4,
 "nbformat_minor": 5
}
