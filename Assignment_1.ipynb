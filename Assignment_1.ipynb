{
 "cells": [
  {
   "cell_type": "raw",
   "id": "046d6d9f",
   "metadata": {},
   "source": [
    "1. In the below elements which of them are values or an expression? eg:- values can be integer or string and expressions will be mathematical operators.\n",
    "\n",
    "'hello': Its a value as it contains string enclosed in a single quote.\n",
    "-87.8 :Its a value as it is a negative interger.\n",
    "- : Its an expression containing mathematical operator.\n",
    "/ : Its an expression containing mathematical operator.\n",
    "+ : Its an expression containing mathematical operator.\n",
    "6 : ts a value as it is a negative interger."
   ]
  },
  {
   "cell_type": "raw",
   "id": "5fad0882",
   "metadata": {},
   "source": [
    "2. What is the difference between string and variable?\n",
    "\n",
    "String contains the collection of characters enclosed in a quotes, whereas variable will be used to hold certain value.\n",
    "String is value, whereas the contents of a variable can be changed."
   ]
  },
  {
   "cell_type": "raw",
   "id": "0b6faee3",
   "metadata": {},
   "source": [
    "Describe three different data types.\n",
    "\n",
    "int : will hold the integer values.\n",
    "float: Will hold the decimal values.\n",
    "Str: Will hold the collection of characters."
   ]
  },
  {
   "cell_type": "raw",
   "id": "284f0562",
   "metadata": {},
   "source": [
    "What is an expression made up of? What do all expressions do?\n",
    "\n",
    "An expression will contain certain assignment and mathematical operators which is expected to give certain output.\n",
    "All the expression will perform a subtask of some operations and will returnor store certain value."
   ]
  },
  {
   "cell_type": "raw",
   "id": "5393dc3f",
   "metadata": {},
   "source": [
    "This assignment statements, like spam = 10. What is the difference between an expression and a statement?\n",
    "\n",
    "An statement will try to assign a value to certain variable or perform simple tasks which is nothing to do with data \n",
    "operation, whereas an expression will perform certain operation and provide result."
   ]
  },
  {
   "cell_type": "raw",
   "id": "d6e8b0f5",
   "metadata": {},
   "source": [
    "6. After running the following code, what does the variable bacon contain?\n",
    "bacon = 22\n",
    "bacon + 1\n",
    "\n",
    "Initially it will store the value 22 in the variable bacon and in the next expression it will add 1 to the variable and \n",
    "shows the result as 23"
   ]
  },
  {
   "cell_type": "raw",
   "id": "ee971aec",
   "metadata": {},
   "source": [
    "7. What should the values of the following two terms be?\n",
    "'spam' + 'spamspam'\n",
    "'spam' * 3\n",
    "\n",
    "Both statements prints the spam 3 times in repetetion without space."
   ]
  },
  {
   "cell_type": "raw",
   "id": "b78e5ec7",
   "metadata": {},
   "source": [
    "8. Why is eggs a valid variable name while 100 is invalid?\n",
    "\n",
    "collection of letters of certain kind apart from keyword can be used as variables wheres as 100 is a integer having \n",
    "certain value and hence cannot be used for variable."
   ]
  },
  {
   "cell_type": "raw",
   "id": "767a55ec",
   "metadata": {},
   "source": [
    "What three functions can be used to get the integer, floating-point number, or string version of a value?\n",
    "\n",
    "The int() , float() , and str( ) functions will evaluate to the integer, floating-point number, and string versions of \n",
    "the value passed to them."
   ]
  },
  {
   "cell_type": "raw",
   "id": "a890e824",
   "metadata": {},
   "source": [
    "Why does this expression cause an error? How can you fix it?\n",
    "'I have eaten ' + 99 + ' burritos.'\n",
    "\n",
    "The values used for concatenation are of different datatypes.\n",
    "The error can be fixed by incluing 99 in quotes, thereby treating it as string."
   ]
  }
 ],
 "metadata": {
  "kernelspec": {
   "display_name": "Python 3",
   "language": "python",
   "name": "python3"
  },
  "language_info": {
   "codemirror_mode": {
    "name": "ipython",
    "version": 3
   },
   "file_extension": ".py",
   "mimetype": "text/x-python",
   "name": "python",
   "nbconvert_exporter": "python",
   "pygments_lexer": "ipython3",
   "version": "3.8.8"
  }
 },
 "nbformat": 4,
 "nbformat_minor": 5
}
